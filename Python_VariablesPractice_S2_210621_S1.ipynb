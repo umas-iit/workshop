{
  "nbformat": 4,
  "nbformat_minor": 0,
  "metadata": {
    "colab": {
      "name": "Python-VariablesPractice-S2-210621-S1.ipynb",
      "provenance": [],
      "collapsed_sections": [],
      "include_colab_link": true
    },
    "kernelspec": {
      "name": "python3",
      "display_name": "Python 3"
    },
    "language_info": {
      "name": "python"
    }
  },
  "cells": [
    {
      "cell_type": "markdown",
      "metadata": {
        "id": "view-in-github",
        "colab_type": "text"
      },
      "source": [
        "<a href=\"https://colab.research.google.com/github/umas-iit/workshop/blob/master/Python_VariablesPractice_S2_210621_S1.ipynb\" target=\"_parent\"><img src=\"https://colab.research.google.com/assets/colab-badge.svg\" alt=\"Open In Colab\"/></a>"
      ]
    },
    {
      "cell_type": "markdown",
      "metadata": {
        "id": "DBAb56qmIQnr"
      },
      "source": [
        "<!--NAVIGATION-->\n",
        "### **Python - Variables Practice Session-S2 : Save a Copy in local drive and Work**\n"
      ]
    },
    {
      "cell_type": "markdown",
      "metadata": {
        "id": "xLAsMAp2AHNR"
      },
      "source": [
        "## Section : Creating different types of Data Structure (variables) and  perform operations\n",
        "\n",
        "**Python - Variables Practice Session-S1 : Save a Copy in local drive and Work**\n",
        "\n",
        "* To create a variable in Python, all you need to do is specify the variable name, and then assign a value to it.\n",
        "* Python uses = to assign values to variables. There's no need to declare a variable in advance (or to assign a data type to it), assigning a value to a variable itself declares and initializes the variable with that value. \n",
        " There's no way to declare a variable without assigning it an initial value.  \n",
        "\n",
        "### Rules for variable naming:\n",
        "* Variables names must start with a letter or an underscore.\n",
        "* The remainder of your variable name may consist of letters, numbers and underscores.\n",
        "* Names are case sensitive.\n",
        "\n",
        "#####  Even though there's no need to specify a data type when declaring a variable in Python \n",
        "##### while allocating the necessary area in memory for the variable, the Python interpreter automatically picks the most suitable built-in type for it:\n"
      ]
    },
    {
      "cell_type": "code",
      "metadata": {
        "id": "kMHkeM9HER8B"
      },
      "source": [
        "# Integer\n",
        "a=2 \n",
        "print(a)\n",
        "\n",
        "# Integer\n",
        "b = 9223372036854775807 \n",
        "print(b)\n",
        "\n",
        "# Floating point\n",
        "pi = 3.14 \n",
        "print(pi)\n",
        "\n",
        "# String\n",
        "c = 'A' \n",
        "print(c)\n",
        "\n",
        "# String\n",
        "name = 'Krishna' \n",
        "print(name)\n",
        "# Boolean\n",
        "q = True \n",
        "print(q)\n",
        "# Output: True\n",
        "# Empty value or null data type\n",
        "x = None \n",
        "print(x)\n",
        "# Output: None"
      ],
      "execution_count": null,
      "outputs": []
    },
    {
      "cell_type": "code",
      "metadata": {
        "id": "LXEzN4DwExdV"
      },
      "source": [
        "has_0_in_it = \"Still Valid\" \n",
        "x = True \n",
        "x = False \n",
        "y = False \n",
        "print(y)\n",
        "\n",
        "x=9\n",
        "y = x*5\n",
        "print(y)\n"
      ],
      "execution_count": null,
      "outputs": []
    },
    {
      "cell_type": "code",
      "metadata": {
        "id": "UBpo-0CQEtZ4"
      },
      "source": [
        "\n",
        "a=2\n",
        "print(type(a))\n",
        "\n",
        "b = 9223372036854775807 \n",
        "print(type(b))\n",
        "\n",
        "pi = 3.14 \n",
        "print(type(pi))\n",
        "\n",
        "c = 'A'\n",
        "print(type(c))\n",
        "\n",
        "name = 'Raman' \n",
        "print(type(name))\n",
        "\n",
        "q = True \n",
        "print(type(q))"
      ],
      "execution_count": null,
      "outputs": []
    },
    {
      "cell_type": "code",
      "metadata": {
        "colab": {
          "base_uri": "https://localhost:8080/"
        },
        "id": "pQLE0g8HFUJA",
        "outputId": "1a001f9c-3f76-47a8-e7fd-6b4477cf6f10"
      },
      "source": [
        "a, b, c = 1, 2, \"Krihsna\" \n",
        "print(a, b, c)\n",
        "\n",
        "a, b, c = 1, 2,8\n",
        "a, b,c = 1, 2, 3\n",
        "\n",
        "print(a, b, c)\n",
        "\n",
        "a, b, _ = 1, 2, 3 \n",
        "print(a, b)\n",
        "\n",
        "a=b=c=1\n",
        "print(a, b, c)\n",
        "b = 2 # b now refers to another int object, one with a value of 2 print(a, b, c)\n"
      ],
      "execution_count": null,
      "outputs": [
        {
          "output_type": "stream",
          "text": [
            "1 2 Krihsna\n",
            "1 2 3\n",
            "1 2\n",
            "1 1 1\n"
          ],
          "name": "stdout"
        }
      ]
    },
    {
      "cell_type": "code",
      "metadata": {
        "colab": {
          "base_uri": "https://localhost:8080/"
        },
        "id": "dIa0i0FWFg9u",
        "outputId": "4c5ca3bf-d2b3-480a-ad4f-760bad879ed6"
      },
      "source": [
        "x = y = (7, 8, 9)\n",
        "x = [13, 8, 9] \n",
        "print(x)\n",
        "print(y)"
      ],
      "execution_count": null,
      "outputs": [
        {
          "output_type": "stream",
          "text": [
            "[13, 8, 9]\n",
            "(7, 8, 9)\n"
          ],
          "name": "stdout"
        }
      ]
    },
    {
      "cell_type": "markdown",
      "metadata": {
        "id": "PFxZeb0WFnev"
      },
      "source": [
        "* x and y refer to the same list object just created, [7, 8, 9]\n",
        "* x now refers to a different list object just created, [13, 8, 9]\n",
        "* y still refers to the list it was first assigned"
      ]
    },
    {
      "cell_type": "code",
      "metadata": {
        "colab": {
          "base_uri": "https://localhost:8080/"
        },
        "id": "d5Xel6iCF2p3",
        "outputId": "5f5a5f72-9fa6-4d39-de02-b08b434f6698"
      },
      "source": [
        "x = y = [[7, 8, 9] ,10, 12]\n",
        "x[0] = 13\n",
        "print(y)"
      ],
      "execution_count": null,
      "outputs": [
        {
          "output_type": "stream",
          "text": [
            "[13, 10, 12]\n"
          ],
          "name": "stdout"
        }
      ]
    },
    {
      "cell_type": "markdown",
      "metadata": {
        "id": "9r-mDFOqF0NT"
      },
      "source": [
        "\n",
        "\n",
        "* x and y are two different names for the same list object just created, [7,\n",
        "* we are updating the value of the list [7, 8, 9] through one of its names, x\n",
        "* printing the value of the list using its other name\n",
        "* Output: [13, 8, 9]  # hence, naturally the change is reflected"
      ]
    },
    {
      "cell_type": "markdown",
      "metadata": {
        "id": "PULQLRBRGRxx"
      },
      "source": [
        "**Nested lists** are also valid in python. This means that a list can contain another list as an element.\n",
        "* variables in Python do not have to stay the same type as which they were first defined -- you can simply use = to assign a new value to a variable, even if that value is of a different type."
      ]
    },
    {
      "cell_type": "code",
      "metadata": {
        "colab": {
          "base_uri": "https://localhost:8080/"
        },
        "id": "erJ_1yAxGssy",
        "outputId": "41a57c74-7e43-4cda-db88-327a7bce766c"
      },
      "source": [
        "a = b = c = 1 # all three names a, b and c refer to same int object with value 1 print(a, b, c)\n",
        "\n",
        "b = 2 # b now refers to another int object, one with a value of 2 print(a, b, c)\n",
        "\n",
        "x = y = [7, 8, 9]\n",
        "x = [13, 8, 9] \n",
        "print(y)\n",
        "print(x)"
      ],
      "execution_count": null,
      "outputs": [
        {
          "output_type": "stream",
          "text": [
            "[7, 8, 9]\n",
            "[13, 8, 9]\n"
          ],
          "name": "stdout"
        }
      ]
    },
    {
      "cell_type": "markdown",
      "metadata": {
        "id": "CMm_BxAuGyWY"
      },
      "source": [
        "* x and y refer to the same list object just created, [7, 8, 9]\n",
        "* x now refers to a different list object just created, [13, 8, 9]\n",
        "* y still refers to the list it was first assigned"
      ]
    },
    {
      "cell_type": "code",
      "metadata": {
        "colab": {
          "base_uri": "https://localhost:8080/"
        },
        "id": "-UZeGXGUG9Vi",
        "outputId": "77955ebc-45cc-4f61-d78c-eddcac016363"
      },
      "source": [
        "x = y = [[7, 8, 9], 8, 9]\n",
        "x[0] = 13\n",
        "print(y)\n",
        "\n",
        "x = [1, 2, [3, 4, 5], 6, 7] # this is nested list print x[2]\n",
        "print (x[2][1])\n"
      ],
      "execution_count": null,
      "outputs": [
        {
          "output_type": "stream",
          "text": [
            "[13, 8, 9]\n",
            "4\n"
          ],
          "name": "stdout"
        }
      ]
    },
    {
      "cell_type": "markdown",
      "metadata": {
        "id": "AwuNmVPCHA5W"
      },
      "source": [
        "* x and y are two different names for the same list object just created, [7,\n",
        "* we are updating the value of the list [7, 8, 9] through one of its names, x\n",
        "* printing the value of the list using its other name\n",
        "* Output: [13, 8, 9]  # hence, naturally the change is reflected"
      ]
    },
    {
      "cell_type": "code",
      "metadata": {
        "colab": {
          "base_uri": "https://localhost:8080/"
        },
        "id": "B0hL59fPHOrg",
        "outputId": "1837e70d-a710-4e0e-b956-522b45f88916"
      },
      "source": [
        "a=2 \n",
        "print(a)\n",
        "\n",
        "a = \"New value\" \n",
        "print(a)\n"
      ],
      "execution_count": null,
      "outputs": [
        {
          "output_type": "stream",
          "text": [
            "2\n",
            "New value\n"
          ],
          "name": "stdout"
        }
      ]
    },
    {
      "cell_type": "markdown",
      "metadata": {
        "id": "qdNxlbiyLj8J"
      },
      "source": [
        "## Section : Block Indentation.\n",
        "Python uses indentation to define control and loop constructs. This contributes to Python's readability,"
      ]
    },
    {
      "cell_type": "code",
      "metadata": {
        "colab": {
          "base_uri": "https://localhost:8080/"
        },
        "id": "K3h8wC5nLv_y",
        "outputId": "fefcc452-5caf-4ef0-dc77-41beedb19cff"
      },
      "source": [
        "# This is a function definition. Note the colon (:)\n",
        "# This line belongs to the function because it's indented\n",
        "# This line also belongs to the same function\n",
        "a = 5 \n",
        "def my_function(): \n",
        "     a = 2\n",
        "     return a\n",
        "\n",
        "print(my_function()) # This line is OUTSIDE the function block\n",
        "print (a)"
      ],
      "execution_count": null,
      "outputs": [
        {
          "output_type": "stream",
          "text": [
            "2\n",
            "5\n"
          ],
          "name": "stdout"
        }
      ]
    },
    {
      "cell_type": "code",
      "metadata": {
        "colab": {
          "base_uri": "https://localhost:8080/"
        },
        "id": "jFFiBuSCMJSR",
        "outputId": "f9d263ae-d835-4579-c216-9bd0711b2fcc"
      },
      "source": [
        "# If block starts here\n",
        "# This is part of the if block\n",
        "# else must be at the same level as if\n",
        "# This line is part of the else block\n",
        "\n",
        "a=10\n",
        "b=4\n",
        "if a > b: print(a)\n",
        "else: print(b)\n"
      ],
      "execution_count": null,
      "outputs": [
        {
          "output_type": "stream",
          "text": [
            "10\n"
          ],
          "name": "stdout"
        }
      ]
    },
    {
      "cell_type": "code",
      "metadata": {
        "colab": {
          "base_uri": "https://localhost:8080/"
        },
        "id": "a8m8rrwPMkGc",
        "outputId": "c539966c-3ada-4254-9fcb-4c697ed36c17"
      },
      "source": [
        "x=5\n",
        "y=2\n",
        "if x > y: \n",
        "  y = x\n",
        "  print(y)\n",
        "if x > y: \n",
        "  while y != z: \n",
        "    y -= 1 \n"
      ],
      "execution_count": null,
      "outputs": [
        {
          "output_type": "stream",
          "text": [
            "5\n"
          ],
          "name": "stdout"
        }
      ]
    },
    {
      "cell_type": "markdown",
      "metadata": {
        "id": "4E6wYip9A11X"
      },
      "source": [
        "## Sequences and collections\n"
      ]
    },
    {
      "cell_type": "markdown",
      "metadata": {
        "id": "LHZSXy43Be89"
      },
      "source": [
        "## Tuple: An ordered collection of n values of any type (n >= 0).\n",
        "Supports indexing; immutable; hashable if all its members are hashable"
      ]
    },
    {
      "cell_type": "code",
      "metadata": {
        "colab": {
          "base_uri": "https://localhost:8080/",
          "height": 215
        },
        "id": "s16GXhMKBnMr",
        "outputId": "c6d20d34-1d8f-41ff-fe8c-e148661b58d8"
      },
      "source": [
        "a = (1, 2, 3)\n",
        "b = ('a', 1, 'python', (1, 2))\n",
        "b[2] = 'something else'        \n",
        "print(b)"
      ],
      "execution_count": null,
      "outputs": [
        {
          "output_type": "error",
          "ename": "TypeError",
          "evalue": "ignored",
          "traceback": [
            "\u001b[0;31m---------------------------------------------------------------------------\u001b[0m",
            "\u001b[0;31mTypeError\u001b[0m                                 Traceback (most recent call last)",
            "\u001b[0;32m<ipython-input-24-2eee1e9028c2>\u001b[0m in \u001b[0;36m<module>\u001b[0;34m()\u001b[0m\n\u001b[1;32m      1\u001b[0m \u001b[0ma\u001b[0m \u001b[0;34m=\u001b[0m \u001b[0;34m(\u001b[0m\u001b[0;36m1\u001b[0m\u001b[0;34m,\u001b[0m \u001b[0;36m2\u001b[0m\u001b[0;34m,\u001b[0m \u001b[0;36m3\u001b[0m\u001b[0;34m)\u001b[0m\u001b[0;34m\u001b[0m\u001b[0;34m\u001b[0m\u001b[0m\n\u001b[1;32m      2\u001b[0m \u001b[0mb\u001b[0m \u001b[0;34m=\u001b[0m \u001b[0;34m(\u001b[0m\u001b[0;34m'a'\u001b[0m\u001b[0;34m,\u001b[0m \u001b[0;36m1\u001b[0m\u001b[0;34m,\u001b[0m \u001b[0;34m'python'\u001b[0m\u001b[0;34m,\u001b[0m \u001b[0;34m(\u001b[0m\u001b[0;36m1\u001b[0m\u001b[0;34m,\u001b[0m \u001b[0;36m2\u001b[0m\u001b[0;34m)\u001b[0m\u001b[0;34m)\u001b[0m\u001b[0;34m\u001b[0m\u001b[0;34m\u001b[0m\u001b[0m\n\u001b[0;32m----> 3\u001b[0;31m \u001b[0mb\u001b[0m\u001b[0;34m[\u001b[0m\u001b[0;36m2\u001b[0m\u001b[0;34m]\u001b[0m \u001b[0;34m=\u001b[0m \u001b[0;34m'something else'\u001b[0m\u001b[0;34m\u001b[0m\u001b[0;34m\u001b[0m\u001b[0m\n\u001b[0m\u001b[1;32m      4\u001b[0m \u001b[0mprint\u001b[0m\u001b[0;34m(\u001b[0m\u001b[0mb\u001b[0m\u001b[0;34m)\u001b[0m\u001b[0;34m\u001b[0m\u001b[0;34m\u001b[0m\u001b[0m\n",
            "\u001b[0;31mTypeError\u001b[0m: 'tuple' object does not support item assignment"
          ]
        }
      ]
    },
    {
      "cell_type": "markdown",
      "metadata": {
        "id": "sQaecY33Cbpu"
      },
      "source": [
        "## List: An ordered collection of n values (n >= 0)"
      ]
    },
    {
      "cell_type": "code",
      "metadata": {
        "colab": {
          "base_uri": "https://localhost:8080/"
        },
        "id": "aKn6S-tcCDCa",
        "outputId": "b7de9410-2210-41da-8d0f-e5a846af6645"
      },
      "source": [
        "a = [1, 2, 3]\n",
        "b = ['a', 1, 'python', (1, 2)] \n",
        "b[2] = 'something else' # allowed\n",
        "print(b)"
      ],
      "execution_count": null,
      "outputs": [
        {
          "output_type": "stream",
          "text": [
            "['a', 1, 'something else', (1, 2)]\n"
          ],
          "name": "stdout"
        }
      ]
    },
    {
      "cell_type": "markdown",
      "metadata": {
        "id": "5oIL3URzClzk"
      },
      "source": [
        "## Set: An unordered collection of unique values. Items must be hashable.\n"
      ]
    },
    {
      "cell_type": "code",
      "metadata": {
        "colab": {
          "base_uri": "https://localhost:8080/"
        },
        "id": "tCHQTBJfCnv6",
        "outputId": "491da751-6855-4ed9-ae90-d8b047204d31"
      },
      "source": [
        "a = {1, 2, 'a'}\n",
        "print(a)"
      ],
      "execution_count": null,
      "outputs": [
        {
          "output_type": "stream",
          "text": [
            "{1, 2, 'a'}\n"
          ],
          "name": "stdout"
        }
      ]
    },
    {
      "cell_type": "markdown",
      "metadata": {
        "id": "M370r0hmCw8w"
      },
      "source": [
        "## Dictionary : An unordered collection of unique key-value pairs; keys must be hashable."
      ]
    },
    {
      "cell_type": "code",
      "metadata": {
        "colab": {
          "base_uri": "https://localhost:8080/"
        },
        "id": "gfncsiBZC7vc",
        "outputId": "d0ddd853-edf1-4af2-9b56-534651cf8a50"
      },
      "source": [
        "a = {1: 'one',\n",
        "     2: 'two'}\n",
        "print(a)\n",
        "b = {'a': [1, 2, 3],\n",
        "     'b': 'a string'}\n",
        "print(b)"
      ],
      "execution_count": null,
      "outputs": [
        {
          "output_type": "stream",
          "text": [
            "{1: 'one', 2: 'two'}\n",
            "{'a': [1, 2, 3], 'b': 'a string'}\n"
          ],
          "name": "stdout"
        }
      ]
    },
    {
      "cell_type": "code",
      "metadata": {
        "id": "W_nS-Xb3C-4V"
      },
      "source": [
        ""
      ],
      "execution_count": null,
      "outputs": []
    },
    {
      "cell_type": "markdown",
      "metadata": {
        "id": "hnFW4MyjD0R1"
      },
      "source": [
        "### Converting between datatypes"
      ]
    },
    {
      "cell_type": "code",
      "metadata": {
        "colab": {
          "base_uri": "https://localhost:8080/"
        },
        "id": "wBVNX0FPD7SJ",
        "outputId": "dae38d01-eea2-45aa-9296-aa3d608953be"
      },
      "source": [
        "#a = '123.456'\n",
        "a = 123.456\n",
        "b = float(a)\n",
        "# c = int(a)     # ValueError: invalid literal for int() with base 10: '123.456' d = int(b)\n",
        "c = int(a)\n",
        "a = 'hello'\n",
        "b= list(a) # ['h', 'e', 'l', 'l', 'o'] \n",
        "print(b)\n",
        "c= set(a) # {'o', 'e', 'l', 'h'} \n",
        "print(c)\n",
        "d=tuple(a) # ('h', 'e', 'l', 'l', 'o')\n",
        "print(d)"
      ],
      "execution_count": null,
      "outputs": [
        {
          "output_type": "stream",
          "text": [
            "['h', 'e', 'l', 'l', 'o']\n",
            "{'h', 'o', 'e', 'l'}\n",
            "('h', 'e', 'l', 'l', 'o')\n"
          ],
          "name": "stdout"
        }
      ]
    },
    {
      "cell_type": "code",
      "metadata": {
        "id": "1Hp1tABMEJ5X"
      },
      "source": [
        ""
      ],
      "execution_count": null,
      "outputs": []
    },
    {
      "cell_type": "markdown",
      "metadata": {
        "id": "lTec9xzNFK3O"
      },
      "source": [
        "## What are Mutable and Immutable Data Types?\n",
        "An object is called mutable if it can be changed. For example, when you pass a list to some function, the list can be changed.\n",
        "\n",
        "* Int, Str, Float, tuple are immutable objects\n",
        "* List, Dictionary,Set  are mutable objects"
      ]
    },
    {
      "cell_type": "code",
      "metadata": {
        "colab": {
          "base_uri": "https://localhost:8080/"
        },
        "id": "eVge8Rm-FaM_",
        "outputId": "1b4eae27-fe35-43b8-d981-cdce56a1d79b"
      },
      "source": [
        "def f(m):\n",
        "     m.append(3)      # adds a number to the list. This is a mutation.\n",
        "     return m\n",
        "\n",
        "x = [1, 2]\n",
        "b=f(x)\n",
        "print(b)\n",
        "\n",
        "x == [1, 2]        # False now, since an item was added to the list"
      ],
      "execution_count": null,
      "outputs": [
        {
          "output_type": "stream",
          "text": [
            "[1, 2, 3]\n"
          ],
          "name": "stdout"
        },
        {
          "output_type": "execute_result",
          "data": {
            "text/plain": [
              "False"
            ]
          },
          "metadata": {
            "tags": []
          },
          "execution_count": 29
        }
      ]
    },
    {
      "cell_type": "code",
      "metadata": {
        "colab": {
          "base_uri": "https://localhost:8080/",
          "height": 334
        },
        "id": "gmDgYwogKPch",
        "outputId": "468e95da-d37d-463c-f03e-e47a05423bc6"
      },
      "source": [
        "def f(m):\n",
        "     m.append(3)      # adds a number to the list. This is a mutation.\n",
        "     return m\n",
        "\n",
        "x = (1, 2)\n",
        "b=f(x)\n",
        "print(b)"
      ],
      "execution_count": null,
      "outputs": [
        {
          "output_type": "error",
          "ename": "AttributeError",
          "evalue": "ignored",
          "traceback": [
            "\u001b[0;31m---------------------------------------------------------------------------\u001b[0m",
            "\u001b[0;31mAttributeError\u001b[0m                            Traceback (most recent call last)",
            "\u001b[0;32m<ipython-input-30-13093b01c8b1>\u001b[0m in \u001b[0;36m<module>\u001b[0;34m()\u001b[0m\n\u001b[1;32m      4\u001b[0m \u001b[0;34m\u001b[0m\u001b[0m\n\u001b[1;32m      5\u001b[0m \u001b[0mx\u001b[0m \u001b[0;34m=\u001b[0m \u001b[0;34m(\u001b[0m\u001b[0;36m1\u001b[0m\u001b[0;34m,\u001b[0m \u001b[0;36m2\u001b[0m\u001b[0;34m)\u001b[0m\u001b[0;34m\u001b[0m\u001b[0;34m\u001b[0m\u001b[0m\n\u001b[0;32m----> 6\u001b[0;31m \u001b[0mb\u001b[0m\u001b[0;34m=\u001b[0m\u001b[0mf\u001b[0m\u001b[0;34m(\u001b[0m\u001b[0mx\u001b[0m\u001b[0;34m)\u001b[0m\u001b[0;34m\u001b[0m\u001b[0;34m\u001b[0m\u001b[0m\n\u001b[0m\u001b[1;32m      7\u001b[0m \u001b[0mprint\u001b[0m\u001b[0;34m(\u001b[0m\u001b[0mb\u001b[0m\u001b[0;34m)\u001b[0m\u001b[0;34m\u001b[0m\u001b[0;34m\u001b[0m\u001b[0m\n",
            "\u001b[0;32m<ipython-input-30-13093b01c8b1>\u001b[0m in \u001b[0;36mf\u001b[0;34m(m)\u001b[0m\n\u001b[1;32m      1\u001b[0m \u001b[0;32mdef\u001b[0m \u001b[0mf\u001b[0m\u001b[0;34m(\u001b[0m\u001b[0mm\u001b[0m\u001b[0;34m)\u001b[0m\u001b[0;34m:\u001b[0m\u001b[0;34m\u001b[0m\u001b[0;34m\u001b[0m\u001b[0m\n\u001b[0;32m----> 2\u001b[0;31m      \u001b[0mm\u001b[0m\u001b[0;34m.\u001b[0m\u001b[0mappend\u001b[0m\u001b[0;34m(\u001b[0m\u001b[0;36m3\u001b[0m\u001b[0;34m)\u001b[0m      \u001b[0;31m# adds a number to the list. This is a mutation.\u001b[0m\u001b[0;34m\u001b[0m\u001b[0;34m\u001b[0m\u001b[0m\n\u001b[0m\u001b[1;32m      3\u001b[0m      \u001b[0;32mreturn\u001b[0m \u001b[0mm\u001b[0m\u001b[0;34m\u001b[0m\u001b[0;34m\u001b[0m\u001b[0m\n\u001b[1;32m      4\u001b[0m \u001b[0;34m\u001b[0m\u001b[0m\n\u001b[1;32m      5\u001b[0m \u001b[0mx\u001b[0m \u001b[0;34m=\u001b[0m \u001b[0;34m(\u001b[0m\u001b[0;36m1\u001b[0m\u001b[0;34m,\u001b[0m \u001b[0;36m2\u001b[0m\u001b[0;34m)\u001b[0m\u001b[0;34m\u001b[0m\u001b[0;34m\u001b[0m\u001b[0m\n",
            "\u001b[0;31mAttributeError\u001b[0m: 'tuple' object has no attribute 'append'"
          ]
        }
      ]
    },
    {
      "cell_type": "markdown",
      "metadata": {
        "id": "W6gXXEdDpS9n"
      },
      "source": [
        "## What are diffrent types of Lists?"
      ]
    },
    {
      "cell_type": "code",
      "metadata": {
        "colab": {
          "base_uri": "https://localhost:8080/"
        },
        "id": "gsJqHSM2pD7G",
        "outputId": "37e80839-0453-4a4f-9c48-422830b33dcc"
      },
      "source": [
        "empty_list = []      #  list can be empty\n",
        "mixed_list = [1, 'abc', True, 2.34, None]   # heterogenous list \n",
        "nested_list = [['a', 'b', 'c'], [1, 2, 3]]     # nested list \n",
        "\n",
        "# Lists in Python are zero-indexed meaning that the first element in the list is at index 0\n",
        "\n",
        "print(nested_list[-1])\n",
        "mixed_list.append(\"stART\")\n",
        "mixed_list.insert(3, \"Test\")\n",
        "print(mixed_list)\n",
        "mixed_list.count(1)\n",
        "nested_list.reverse()\n",
        "\n",
        "print(mixed_list)\n",
        "mixed_list[::-1]  # slicing \n",
        "print(mixed_list)\n",
        "nested_list.pop()\n"
      ],
      "execution_count": null,
      "outputs": [
        {
          "output_type": "stream",
          "text": [
            "[1, 2, 3]\n",
            "[1, 'abc', True, 'Test', 2.34, None, 'stART']\n",
            "[1, 'abc', True, 'Test', 2.34, None, 'stART']\n",
            "[1, 'abc', True, 'Test', 2.34, None, 'stART']\n"
          ],
          "name": "stdout"
        },
        {
          "output_type": "execute_result",
          "data": {
            "text/plain": [
              "['a', 'b', 'c']"
            ]
          },
          "metadata": {
            "tags": []
          },
          "execution_count": 36
        }
      ]
    },
    {
      "cell_type": "markdown",
      "metadata": {
        "id": "ixtCKGf9KnYe"
      },
      "source": [
        "###  What are diferent List functions? "
      ]
    },
    {
      "cell_type": "markdown",
      "metadata": {
        "id": "duzqv3f_JAoD"
      },
      "source": [
        "## How to Use Lists as Stacks?\n",
        "\n",
        "The list methods make it very easy to use a list as a stack, where the last element added is the first element retrieved (“last-in, first-out”). To add an item to the top of the stack, use append(). To retrieve an item from the top of the stack, use pop() without an explicit index. "
      ]
    },
    {
      "cell_type": "code",
      "metadata": {
        "colab": {
          "base_uri": "https://localhost:8080/"
        },
        "id": "LcpatyrJJM63",
        "outputId": "fa1d79e9-07f7-44b3-eb65-7ba96a9c8258"
      },
      "source": [
        "stk = [3, 4, 5]\n",
        "stk.append(6)\n",
        "stk.append(7)\n",
        "stk.pop()\n",
        "stk.pop()\n",
        "\n",
        "for element in stk : \n",
        "   print (element)"
      ],
      "execution_count": null,
      "outputs": [
        {
          "output_type": "stream",
          "text": [
            "3\n",
            "4\n",
            "5\n"
          ],
          "name": "stdout"
        }
      ]
    },
    {
      "cell_type": "markdown",
      "metadata": {
        "id": "0o6YPeq6rI6I"
      },
      "source": [
        "###  What is the diff between tuple and List ? what are its uses?\n",
        "* Values in the tuple cannot be changed nor the values be added to or removed from the tuple.\n",
        "* Tuples are commonly used for small collections of values that will not need to change, such as an IP address and port"
      ]
    },
    {
      "cell_type": "code",
      "metadata": {
        "id": "DQY8FyQ9rVQF"
      },
      "source": [
        "one_member_tuple = ('Only member',)\n",
        "one_member_tuple = 'Only member',\n",
        "\n",
        "print(one_member_tuple)"
      ],
      "execution_count": null,
      "outputs": []
    },
    {
      "cell_type": "code",
      "metadata": {
        "colab": {
          "base_uri": "https://localhost:8080/"
        },
        "id": "wj3pdaGSGWm6",
        "outputId": "7d1569f1-86ac-4727-8f1a-e6d1e7118dd7"
      },
      "source": [
        "def f(m):   # adds a number to the list. This is a mutation.\n",
        "     return m\n",
        "\n",
        "x = (1, 2)        \n",
        "f(x)\n",
        "x == (1, 2) # Will always be True, since no function can change the object (1, 2)"
      ],
      "execution_count": null,
      "outputs": [
        {
          "output_type": "execute_result",
          "data": {
            "text/plain": [
              "True"
            ]
          },
          "metadata": {
            "tags": []
          },
          "execution_count": 39
        }
      ]
    },
    {
      "cell_type": "markdown",
      "metadata": {
        "id": "DN8ohB48LxGc"
      },
      "source": [
        "## How to use Lists as Queues? What are Queue methods?"
      ]
    },
    {
      "cell_type": "code",
      "metadata": {
        "colab": {
          "base_uri": "https://localhost:8080/"
        },
        "id": "aBO6XlhRKzX5",
        "outputId": "374e413f-c953-4c73-eaa6-9535ec9e2046"
      },
      "source": [
        "from collections import deque\n",
        "\n",
        "queue = deque([\"India\", \"Japan\", \"America\"])\n",
        "queue.append(\"Singapore\")           # Singapore arrives\n",
        "queue.append(\"UK\")          # UK arrives\n",
        "queue.popleft()                 # The first to arrive now leaves\n",
        "queue.popleft()                 # The second to arrive now leaves                  \n",
        "print(queue)           # Remaining queue in order of arrival\n",
        "deque(['India', 'Singapore', 'Japan'])\n",
        "print(deque)"
      ],
      "execution_count": null,
      "outputs": [
        {
          "output_type": "stream",
          "text": [
            "deque(['America', 'Singapore', 'UK'])\n",
            "<class 'collections.deque'>\n"
          ],
          "name": "stdout"
        }
      ]
    },
    {
      "cell_type": "code",
      "metadata": {
        "id": "Sw8RkxgALVuZ"
      },
      "source": [
        ""
      ],
      "execution_count": null,
      "outputs": []
    },
    {
      "cell_type": "markdown",
      "metadata": {
        "id": "HeVhdQDQMQ1M"
      },
      "source": [
        "## What is List comprehensions?\n",
        "List comprehensions provide a concise way to create lists. \n",
        "Common applications : \n",
        "* make new lists where each element is the result of some operations applied to each member of another sequence or iterable\n",
        "* create a subsequence of those elements that satisfy a certain condition.\n",
        "* **Benefit:**  list comprehensions can also be used for mapping and filtering."
      ]
    },
    {
      "cell_type": "code",
      "metadata": {
        "colab": {
          "base_uri": "https://localhost:8080/"
        },
        "id": "YFk5GWVmMnfO",
        "outputId": "a7d00d03-5945-4f4b-b3de-cac4d91b1c17"
      },
      "source": [
        "squares = []\n",
        "for x in range(10):\n",
        "     squares.append(x**2)\n",
        "print(squares)"
      ],
      "execution_count": null,
      "outputs": [
        {
          "output_type": "stream",
          "text": [
            "[0, 1, 4, 9, 16, 25, 36, 49, 64, 81]\n"
          ],
          "name": "stdout"
        }
      ]
    },
    {
      "cell_type": "code",
      "metadata": {
        "colab": {
          "base_uri": "https://localhost:8080/"
        },
        "id": "OrFi5McjMyRY",
        "outputId": "4c440f7f-d55c-4c72-dd20-39cff64e9879"
      },
      "source": [
        "squares1 = [x**2 for x in range(10)]      # list comprehension\n",
        "print(squares1)"
      ],
      "execution_count": null,
      "outputs": [
        {
          "output_type": "stream",
          "text": [
            "[0, 1, 4, 9, 16, 25, 36, 49, 64, 81]\n"
          ],
          "name": "stdout"
        }
      ]
    },
    {
      "cell_type": "code",
      "metadata": {
        "colab": {
          "base_uri": "https://localhost:8080/"
        },
        "id": "_1jJGHqWNC4P",
        "outputId": "ccfce402-648a-4dce-c787-9c55c92e3a65"
      },
      "source": [
        "squares2 = [(x, y) for x in [1,2,3] for y in [3,1,4] if x != y]       # list comprehension\n",
        "print(squares2)\n",
        "\n",
        "square2 = []\n",
        "for x in [1,2,3]:\n",
        "    for y in [3,1,4]:\n",
        "      if x != y:   \n",
        "         square2.append((x, y))\n",
        "print(square2)"
      ],
      "execution_count": null,
      "outputs": [
        {
          "output_type": "stream",
          "text": [
            "[(1, 3), (1, 4), (2, 3), (2, 1), (2, 4), (3, 1), (3, 4)]\n",
            "[(1, 3), (1, 4), (2, 3), (2, 1), (2, 4), (3, 1), (3, 4)]\n"
          ],
          "name": "stdout"
        }
      ]
    },
    {
      "cell_type": "code",
      "metadata": {
        "colab": {
          "base_uri": "https://localhost:8080/"
        },
        "id": "nS2xszCkNorr",
        "outputId": "834621e2-38b5-4340-fa5c-0c33f473031b"
      },
      "source": [
        "square3 = [-4, -2, 0, 2, 4]\n",
        "# create a new list with the values doubled\n",
        "square3 = [x*2 for x in square3]\n",
        "print(square3)"
      ],
      "execution_count": null,
      "outputs": [
        {
          "output_type": "stream",
          "text": [
            "[-8, -4, 0, 4, 8]\n"
          ],
          "name": "stdout"
        }
      ]
    },
    {
      "cell_type": "code",
      "metadata": {
        "colab": {
          "base_uri": "https://localhost:8080/"
        },
        "id": "mMMMkUnEPsF1",
        "outputId": "ab40cc6f-f3be-48f3-801b-0544be4fc409"
      },
      "source": [
        "square4 = [8.6, -6, 4, 2.3, 4]\n",
        "square4 = [abs(x) for x in square4]          # apply a function to all the elements\n",
        "print(square4)"
      ],
      "execution_count": null,
      "outputs": [
        {
          "output_type": "stream",
          "text": [
            "[8.6, 6, 4, 2.3, 4]\n"
          ],
          "name": "stdout"
        }
      ]
    },
    {
      "cell_type": "markdown",
      "metadata": {
        "id": "oqfw_iATRQI7"
      },
      "source": [
        "## What are Nested List Comprehensions? What are its uses?"
      ]
    },
    {
      "cell_type": "code",
      "metadata": {
        "colab": {
          "base_uri": "https://localhost:8080/"
        },
        "id": "o7VwHlluRPSq",
        "outputId": "a598e78d-0a06-4859-8161-281974ae014d"
      },
      "source": [
        "matrix = [\n",
        " [1, 2, 3, 4],\n",
        " [5, 6, 7, 8],\n",
        " [9, 10, 11, 12],\n",
        "]\n",
        "\n",
        "matrix1 = [[row[i] for row in matrix] for i in range(4)]      #  option\n",
        "print(matrix1)\n",
        "\n",
        "transposed = []\n",
        "for i in range(4):\n",
        "  transposed.append([row[i] for row in matrix])\n",
        "print(transposed)                                                # Option\n",
        "\n",
        "print(list(zip(*matrix)))       # use Zip                         # option - prefer built-in functions to complex flow statements."
      ],
      "execution_count": null,
      "outputs": [
        {
          "output_type": "stream",
          "text": [
            "[[1, 5, 9], [2, 6, 10], [3, 7, 11], [4, 8, 12]]\n",
            "[[1, 5, 9], [2, 6, 10], [3, 7, 11], [4, 8, 12]]\n",
            "[(1, 5, 9), (2, 6, 10), (3, 7, 11), (4, 8, 12)]\n"
          ],
          "name": "stdout"
        }
      ]
    },
    {
      "cell_type": "markdown",
      "metadata": {
        "id": "-nDjnEuUTCRg"
      },
      "source": [
        "## How do we do indexing and slicing operations in strings and Lists work ?"
      ]
    },
    {
      "cell_type": "code",
      "metadata": {
        "colab": {
          "base_uri": "https://localhost:8080/"
        },
        "id": "tsbiJ0-bsStW",
        "outputId": "f3c7473a-4480-4952-8c02-04ae129fe507"
      },
      "source": [
        "a = ['hubli', 'dharwad', 'goa', 'belguam', 'pune', 'mumbai']\n",
        "\n",
        "print(a[-2])\n",
        "print(a[5])\n",
        "print(a[-len(a)])\n",
        "print(a[2:5])\n",
        "print(a[-5:-2])\n",
        "a[-5:-2] == a[1:4]\n",
        "print(a[:4])      # ommiting \n",
        "print(a[2:])\n",
        "print(a == a[:])\n",
        "print(a is a[:])\n",
        "\n",
        "print(a[0:6:2])      # stride\n",
        "\n",
        "print(a[::-1])\n",
        "\n"
      ],
      "execution_count": null,
      "outputs": [
        {
          "output_type": "stream",
          "text": [
            "pune\n",
            "mumbai\n",
            "hubli\n",
            "['goa', 'belguam', 'pune']\n",
            "['dharwad', 'goa', 'belguam']\n",
            "['hubli', 'dharwad', 'goa', 'belguam']\n",
            "['goa', 'belguam', 'pune', 'mumbai']\n",
            "True\n",
            "False\n",
            "['hubli', 'goa', 'pune']\n",
            "['mumbai', 'pune', 'belguam', 'goa', 'dharwad', 'hubli']\n"
          ],
          "name": "stdout"
        }
      ]
    },
    {
      "cell_type": "markdown",
      "metadata": {
        "id": "0hui2LaDTYXv"
      },
      "source": [
        "## What is a tuple, tuple properties, sequence unpacking, tuple packing ?\n",
        "* immutable\n",
        "* contains heterogenous elements"
      ]
    },
    {
      "cell_type": "code",
      "metadata": {
        "id": "I6o1VR49Uapj"
      },
      "source": [
        "# t = [12345, 54321, 'welcome']      # Tuples are immutable, and usually contain a heterogeneous sequence of elements \n",
        "t = 12345, 54321, 'welcome'           # tuple packing \n",
        "print(t[0])\n",
        "print(t)\n",
        "u = t, (1, 2, 3, 4, 5)      # Tuples may be nested:\n",
        "print(u)\n",
        "#t[0] = 88888              # Tuples are immutable:\n",
        "x, y, z = t                 # Sequence unpacking \n",
        "print(t)"
      ],
      "execution_count": null,
      "outputs": []
    },
    {
      "cell_type": "markdown",
      "metadata": {
        "id": "eDkUV9RuXN-w"
      },
      "source": [
        "## Set : A set is an unordered collection with no duplicate elements."
      ]
    },
    {
      "cell_type": "markdown",
      "metadata": {
        "id": "-CeVmeEHuxXp"
      },
      "source": [
        "# set\n",
        "* A set is a collection of elements with no repeats and without insertion order but sorted order. They are used in situations where it is only important that some things are grouped together, and not what order they were included. \n",
        "* For large groups of data, it is much faster to check whether or not an element is in a set than it is to do the same for a list.\n",
        "Defining a set is very similar to defining a dictionary"
      ]
    },
    {
      "cell_type": "code",
      "metadata": {
        "colab": {
          "base_uri": "https://localhost:8080/"
        },
        "id": "SaS4WKIYXdkN",
        "outputId": "f1e4fa61-754e-41cf-c55f-a76c4e81a824"
      },
      "source": [
        "basket = {'apple', 'orange', 'apple', 'pear', 'orange', 'banana'}\n",
        "print(basket)\n",
        "\n",
        "my_list = [1,2,3]\n",
        "my_set = set(my_list)\n",
        "print(my_set)\n",
        "\n",
        "a = set('Temple')\n",
        "b = set('Good')\n",
        "\n",
        "# set operations \n",
        "print(a )                                 # unique letters in a\n",
        "print(a - b)                              # letters in a but not in b\n",
        "print(a | b )                             # letters in a or b or both\n",
        "print(a & b )                             # letters in both a and b\n",
        "print(a ^ b )                             # letters in a or b but not both\n",
        "\n",
        "a = {x for x in 'abracadabra' if x not in 'abc'}     # list comprehensions\n"
      ],
      "execution_count": null,
      "outputs": [
        {
          "output_type": "stream",
          "text": [
            "{'banana', 'pear', 'apple', 'orange'}\n",
            "{1, 2, 3}\n",
            "{'l', 'T', 'e', 'p', 'm'}\n",
            "{'l', 'T', 'e', 'p', 'm'}\n",
            "{'o', 'l', 'e', 'p', 'd', 'G', 'm', 'T'}\n",
            "set()\n",
            "{'l', 'd', 'G', 'T', 'o', 'e', 'p', 'm'}\n"
          ],
          "name": "stdout"
        }
      ]
    },
    {
      "cell_type": "markdown",
      "metadata": {
        "id": "Q3Uu1tVWS0rC"
      },
      "source": [
        "## What are uses of Dictionaries ?  also called as “associative memories” or “associative arrays”"
      ]
    },
    {
      "cell_type": "code",
      "metadata": {
        "id": "rj8-oN8nkO0u"
      },
      "source": [
        "dict([('Krishna', 4139), ('kaveri', 4127), ('Ganga', 4098)])"
      ],
      "execution_count": null,
      "outputs": []
    },
    {
      "cell_type": "code",
      "metadata": {
        "colab": {
          "base_uri": "https://localhost:8080/"
        },
        "id": "yhVhvLzIqwN-",
        "outputId": "02ebea9c-b929-4a01-ab5c-ad9b9f01edc1"
      },
      "source": [
        "dict([('Krishna', 4139), ('kaveri', 4127), ('Ganga', 4098)])"
      ],
      "execution_count": null,
      "outputs": [
        {
          "output_type": "execute_result",
          "data": {
            "text/plain": [
              "{'Ganga': 4098, 'Krishna': 4139, 'kaveri': 4127}"
            ]
          },
          "metadata": {
            "tags": []
          },
          "execution_count": 51
        }
      ]
    },
    {
      "cell_type": "code",
      "metadata": {
        "colab": {
          "base_uri": "https://localhost:8080/"
        },
        "id": "fEHRFTuARLw1",
        "outputId": "98061a1e-5774-44a7-82a4-65e49f05849a"
      },
      "source": [
        "{x: x**2 for x in (2, 4, 6)}         # create dictionary using comprehension \n",
        "\n",
        "dict(krishna=4139, kaveri=4127, Ganga=4098)\n"
      ],
      "execution_count": null,
      "outputs": [
        {
          "output_type": "execute_result",
          "data": {
            "text/plain": [
              "{'Ganga': 4098, 'kaveri': 4127, 'krishna': 4139}"
            ]
          },
          "metadata": {
            "tags": []
          },
          "execution_count": 52
        }
      ]
    },
    {
      "cell_type": "markdown",
      "metadata": {
        "id": "ZSqwJ6mbll5y"
      },
      "source": [
        "## Dictionaries : Loop "
      ]
    },
    {
      "cell_type": "code",
      "metadata": {
        "colab": {
          "base_uri": "https://localhost:8080/"
        },
        "id": "WNb_sOFFliWI",
        "outputId": "cb4c0bf0-1255-453e-db0c-2c9f86fd1399"
      },
      "source": [
        "knights = {'Simple': 'program', 'Complex': 'algorithm'}\n",
        "for k, v in knights.items():\n",
        "      print(k, v)\n"
      ],
      "execution_count": null,
      "outputs": [
        {
          "output_type": "stream",
          "text": [
            "Simple program\n",
            "Complex algorithm\n"
          ],
          "name": "stdout"
        }
      ]
    },
    {
      "cell_type": "code",
      "metadata": {
        "colab": {
          "base_uri": "https://localhost:8080/"
        },
        "id": "H8XE1hOjl1nR",
        "outputId": "0b539f19-98d7-49f4-abbb-e0683f3aea0e"
      },
      "source": [
        "questions = ['name', 'quest', 'favorite color']   # To loop over more sequences , the entries can be paired with the zip() function.\n",
        "answers = ['Baby', 'run around the court', 'blue']\n",
        "\n",
        "for q, a in zip(questions, answers):\n",
        "      print('What is your {0}?  It is {1}.'.format(q, a))"
      ],
      "execution_count": null,
      "outputs": [
        {
          "output_type": "stream",
          "text": [
            "What is your name?  It is Baby.\n",
            "What is your quest?  It is run around the court.\n",
            "What is your favorite color?  It is blue.\n"
          ],
          "name": "stdout"
        }
      ]
    },
    {
      "cell_type": "markdown",
      "metadata": {
        "id": "PzAom03HmtCD"
      },
      "source": [
        "When looping through a sequence, use the position index and corresponding value to retrieve the items  using the enumerate() function."
      ]
    },
    {
      "cell_type": "code",
      "metadata": {
        "colab": {
          "base_uri": "https://localhost:8080/"
        },
        "id": "gRvr-tOXm8IW",
        "outputId": "a9eba3f8-a26b-4162-9bd2-18ca35515f49"
      },
      "source": [
        "for i, v in enumerate(['tic', 'tac', 'toe']):\n",
        "    print(i, v)\n",
        "\n",
        "for i in sorted(basket):\n",
        "    print(i)"
      ],
      "execution_count": null,
      "outputs": [
        {
          "output_type": "stream",
          "text": [
            "0 tic\n",
            "1 tac\n",
            "2 toe\n",
            "apple\n",
            "banana\n",
            "orange\n",
            "pear\n"
          ],
          "name": "stdout"
        }
      ]
    },
    {
      "cell_type": "code",
      "metadata": {
        "id": "GOpOAN4IsAST"
      },
      "source": [
        ""
      ],
      "execution_count": null,
      "outputs": []
    }
  ]
}